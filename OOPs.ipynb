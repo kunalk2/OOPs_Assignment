{
  "nbformat": 4,
  "nbformat_minor": 0,
  "metadata": {
    "colab": {
      "provenance": []
    },
    "kernelspec": {
      "name": "python3",
      "display_name": "Python 3"
    },
    "language_info": {
      "name": "python"
    }
  },
  "cells": [
    {
      "cell_type": "markdown",
      "source": [
        "***Q1.  What is Object-Oriented Programming (OOP)?***\n",
        "\n",
        "Ans. Object-oriented programming (OOP) is a programming paradigm that organizes software design around data, or objects, rather than functions and logic. It uses concepts like classes, objects, inheritance, encapsulation, abstraction, and polymorphism to model real-world entities and their interactions.\n",
        "\n",
        "---\n",
        "\n",
        "***Q2. What is a class in OOP?***\n",
        "\n",
        "Ans. In Object-Oriented Programming (OOP), a class is a blueprint or template for creating objects. It defines the structure and behavior of objects, including their data (attributes) and actions (methods).\n",
        "\n",
        "---\n",
        "\n",
        "***Q3. What is an object in OOP?***\n",
        "\n",
        "Ans. In OOP an object is a fundamental building block, representing an instance of a class. It encapsulates both data (attributes) and the code (methods) that operate on that data.\n",
        "\n",
        "---\n",
        "\n",
        "***Q4. What is the difference between abstraction and encapsulation?***\n",
        "\n",
        "Ans. Abstraction focuses on presenting essential information while hiding unnecessary details, while encapsulation bundles data and methods and restricts direct access to protect data integrity.\n",
        "\n",
        "---\n",
        "\n",
        "***Q5. What are dunder methods in Python?***\n",
        "\n",
        "Ans. Dunder methods, also known as magic methods, are special methods in Python that begin and end with double underscores (e.g., __init__, __str__, __len__). They provide a way to define how objects of a class should behave with built-in operators and functions. These methods enable operator overloading and customization of object behavior.\n",
        "\n",
        "---\n",
        "\n",
        "***Q6. Explain the concept of inheritance in OOP.***\n",
        "\n",
        "Ans. Inheritance in (OOP) is a mechanism that allows a class (called a subclass or derived class) to inherit properties and behaviors from another class (called a superclass or base class). This promotes code reuse, establishes hierarchical relationships between classes, and simplifies the development process.\n",
        "\n",
        "---\n",
        "\n",
        "***Q7. What is polymorphism in OOP?***\n",
        "\n",
        "Ans. In OOP polymorphism allows objects of different classes to be treated as objects of a common type, enabling flexible and reusable code. It essentially means \"many forms,\" allowing the same method name to be used for different actions depending on the object type.\n",
        "\n",
        "---\n",
        "\n",
        "***Q8. How is encapsulation achieved in Python?***\n",
        "\n",
        "Ans. Encapsulation in Python is achieved through access modifiers and property decorators. Access modifiers control the visibility of class members, while property decorators allow controlled access to attributes.\n",
        "\n",
        "---\n",
        "\n",
        "***Q9. What is a constructor in Python?***\n",
        "\n",
        "Ans. A constructor in Python is a special method used to initialize objects of a class. It is automatically called when an object is created. The constructor's primary purpose is to set up the initial state of the object by assigning values to its attributes or performing other setup tasks. In Python, the constructor is named __init__ .\n",
        "\n",
        "---\n",
        "\n",
        "***Q10. What are class and static methods in Python?***\n",
        "\n",
        "Ans.\n",
        "1. Class methods are bound to the class and not the instance of the class. They receive the class itself as the first argument, conventionally named cls. Class methods are defined using the @classmethod decorator. They can access and modify class-level attributes but cannot modify instance-specific attributes.\n",
        "2. Static methods are not bound to the class or the instance. They do not receive any implicit first argument. They are essentially functions that are defined within the scope of a class. Static methods are defined using the @staticmethod decorator. They cannot access or modify class or instance attributes directly.\n",
        "\n",
        "---\n",
        "\n",
        "***Q11. What is method overloading in Python?***\n",
        "\n",
        "Ans. Method overloading in Python refers to the ability to define multiple methods with the same name within a class, but with different parameters. If you define multiple methods with the same name, the last defined method will override any earlier definitions.\n",
        "\n",
        "---\n",
        "***Q12. What is method overriding in OOP?***\n",
        "\n",
        "Ans. In OOP method overriding allows a subclass to provide a specific implementation of a method that is already defined in its superclass. This enables the subclass to modify or extend the behavior of the inherited method while maintaining the same method signature like name , parameter ,etc.\n",
        "\n",
        "---\n",
        "\n",
        "***Q13. What is a property decorator in Python?***\n",
        "\n",
        "Ans. A property decorator is a built-in feature that allows methods to be accessed like attributes. It provides a way to encapsulate the logic for getting, setting, and deleting an attribute within a class, while still allowing access to it using the familiar dot notation. The @property decorator is used to define the \"getter\" method.\n",
        "\n",
        "---\n",
        "***Q14. Why is polymorphism important in OOP?***\n",
        "\n",
        "Ans. Polymorphism is crucial in OOP because it enables objects of different classes to be treated as objects of a common type, promoting code reusability, flexibility, and maintainability. It allows for a single interface to be used for different operations, while each class can implement it in its own specific way.\n",
        "\n",
        "---\n",
        "***Q15. What is an abstract class in Python?***\n",
        "\n",
        "Ans. Abstract class is a class that cannot be instantiated directly and serves as a blueprint for other classes. It defines a common interface for a group of subclasses, ensuring that they implement specific methods. Abstract classes are created using the abc module, and they may contain abstract methods, which are declared but not implemented in the abstract class. Subclasses are required to provide concrete implementations for these abstract methods.\n",
        "\n",
        "---\n",
        "***Q16. What are the advantages of OOP?***\n",
        "\n",
        "Ans. OOP offers several advantages, primarily enhancing code organization, reusability, and maintainability. Key benefits include modularity, code reuse through inheritance, flexibility with polymorphism, and simplified problem-solving. These advantages make OOP particularly useful for developing large, complex software systems.\n",
        "\n",
        "---\n",
        "***Q17. What is the difference between a class variable and an instance variable?***\n",
        "\n",
        "Ans.\n",
        "1. Class Variables (Static Variables):\n",
        "* Defined at the class level (outside any methods) and typically using the static keyword (in languages like Java).\n",
        "* Share a single copy across all instances of the class.\n",
        "* Can be accessed directly using the class name (e.g., MyClass.myVariable).\n",
        "* Used for shared data, constants, or when you need a single copy for all instances.\n",
        "\n",
        "2. Instance Variables:\n",
        "* Defined at the instance level within a class (typically within the constructor ).\n",
        "* Each instance (object) of the class has its own separate copy of the instance variable.\n",
        "* Accessed using an object reference (e.g., myObject.myVariable).\n",
        "Used to store unique data specific to each object, like properties or characteristics of that particular instance.\n",
        "\n",
        "---\n",
        "***Q18. What is multiple inheritance in Python?***\n",
        "\n",
        "Ans. Multiple inheritance in Python is a feature that allows a class to inherit attributes and methods from more than one parent class. This enables a class to combine functionalities from different sources, promoting code reuse and flexibility.\n",
        "\n",
        "---\n",
        "***Q19. Explain the purpose of ‘’__str__’ and ‘__repr__’ ‘ methods in Python.***\n",
        "\n",
        "Ans. The __ str __ and __ repr __ methods in Python are special methods used to define how objects should be represented as strings.\n",
        "1. __ str __ :  This method is meant to return a human-readable, informal string representation of an object. It is called by the built-in str() function and implicitly by the print() function. The goal of __str__ is to provide a string that is easily understood by end-users.\n",
        "\n",
        "2. __ repr __ : This method is meant to return an unambiguous, formal string representation of an object. It is called by the built-in repr() function and is also used in the interactive interpreter. The goal of __repr__ is to provide a string that can be used to recreate the object, or at least provide detailed information about it for debugging purposes.\n",
        "\n",
        "---\n",
        "***Q20. What is the significance of the ‘super()’ function in Python?***\n",
        "\n",
        "Ans. The super() function in Python is used to call methods from a parent class in a subclass. It provides a way to access and utilize inherited behavior while also allowing for customization or extension of that behavior in the subclass. Its primary significance lies in enabling proper inheritance and promoting code reusability in object-oriented programming.\n",
        "\n",
        "---\n",
        "***Q21. What is the significance of the __ del __ method in Python?***\n",
        "\n",
        "Ans. The __ del __ method in Python, also known as a destructor, defines actions to be performed when an object is garbage collected. It's called automatically when all references to an object have been deleted, and the object is about to be destroyed. The primary purpose of __ del __ is to facilitate resource cleanup, such as closing files or releasing external connections.\n",
        "\n",
        "---\n",
        "***Q22. What is the difference between @staticmethod and @classmethod in Python?***\n",
        "\n",
        "Ans.\n",
        "1. @staticmethod : This decorator designates a method that does not receive any implicit arguments, neither the instance (self) nor the class (cls). It behaves like a regular function, but it is logically grouped within the class scope. Static methods cannot access or modify the class or instance state. They are often used for utility functions that are related to the class but don't depend on its specific instances.\n",
        "2. @classmethod : This decorator defines a method that receives the class (cls) as the first argument, instead of the instance (self). It can access and modify class-level attributes but cannot access instance-specific attributes. Class methods are frequently used for factory methods, which create instances of the class, or for operations that involve the class itself rather than a particular instance.\n",
        "\n",
        "---\n",
        "***Q23. How does polymorphism work in Python with inheritance?***\n",
        "\n",
        "Ans. Polymorphism, meaning \"many forms,\" enables objects of different classes to respond to the same method call in their own specific ways. When combined with inheritance in Python, polymorphism allows subclasses to override or implement methods of their parent class, leading to flexible and adaptable code.\n",
        "\n",
        "---\n",
        "***Q24. What is method chaining in Python OOP?***\n",
        "\n",
        "Ans. Method chaining in Python is a programming technique used in OOP to call multiple methods sequentially on the same object. It enhances code readability and conciseness by eliminating the need for intermediate variables. To enable method chaining, each method in the sequence must return the object instance itself. This allows the subsequent method to be called directly on the result of the previous one.\n",
        "\n",
        "---\n",
        "***Q25. What is the purpose of the __ call __ method in Python?***\n",
        "\n",
        "Ans. The __ call __ method in Python enables instances of a class to be called like regular functions. When a class defines the __ call __ method, its instances become callable objects. This means that you can use parentheses to \"call\" the object, and the code within the __ call __ method will be executed.\n",
        "\n",
        "---"
      ],
      "metadata": {
        "id": "WTigSytgT9G2"
      }
    },
    {
      "cell_type": "code",
      "source": [
        "# Q1. Create a parent class Animal with a method speak() that prints a generic message. Create a child class Dog that overrides the speak() method to print \"Bark!\".\n",
        "class Animal:\n",
        "    def speak(self):\n",
        "        print(\"Generic animal sound\")\n",
        "\n",
        "class Dog(Animal):\n",
        "    def speak(self):\n",
        "        print(\"Bark!\")\n",
        "if __name__ == \"__main__\":\n",
        "  animal = Animal()\n",
        "  animal.speak()\n",
        "\n",
        "  dog = Dog()\n",
        "  dog.speak()\n"
      ],
      "metadata": {
        "colab": {
          "base_uri": "https://localhost:8080/"
        },
        "id": "Exlhz0_1fAQJ",
        "outputId": "264421b5-c068-43c5-a2d6-70f5b2be648d"
      },
      "execution_count": 5,
      "outputs": [
        {
          "output_type": "stream",
          "name": "stdout",
          "text": [
            "Generic animal sound\n",
            "Bark!\n"
          ]
        }
      ]
    },
    {
      "cell_type": "code",
      "source": [
        "# Q2. Write a program to create an abstract class Shape with a method area(). Derive classes Circle and Rectangle from it and implement the area() method in both.\n",
        "from abc import ABC, abstractmethod\n",
        "import math\n",
        "\n",
        "class Shape(ABC):\n",
        "    @abstractmethod\n",
        "    def area(self):\n",
        "        pass\n",
        "class Circle(Shape):\n",
        "    def __init__(self, radius):\n",
        "        self.radius = radius\n",
        "    def area(self):\n",
        "        return math.pi * self.radius ** 2\n",
        "class Rectangle(Shape):\n",
        "    def __init__(self, length, width):\n",
        "        self.length = length\n",
        "        self.width = width\n",
        "\n",
        "    def area(self):\n",
        "        return self.length * self.width\n",
        "\n",
        "if __name__ == \"__main__\":\n",
        "   circle = Circle(5)\n",
        "   print(\"Area of circle:\", circle.area())\n",
        "\n",
        "   rectangle = Rectangle(4, 6)\n",
        "   print(\"Area of rectangle:\", rectangle.area())"
      ],
      "metadata": {
        "colab": {
          "base_uri": "https://localhost:8080/"
        },
        "id": "WyQ7doItqEky",
        "outputId": "0ab710e4-979b-45a8-db4b-2c3a04561538"
      },
      "execution_count": 42,
      "outputs": [
        {
          "output_type": "stream",
          "name": "stdout",
          "text": [
            "Area of circle: 78.53981633974483\n",
            "Area of rectangle: 24\n"
          ]
        }
      ]
    },
    {
      "cell_type": "code",
      "source": [
        "# Q3. Implement a multi-level inheritance scenario where a class Vehicle has an attribute type. Derive a class Car and further derive a class ElectricCar that adds a battery attribute.\n",
        "class Vehicle:\n",
        "    def __init__(self, vehicle_type):\n",
        "        self.vehicle_type = vehicle_type\n",
        "\n",
        "    def display_type(self):\n",
        "        print(\"Vehicle Type:\", self.vehicle_type)\n",
        "\n",
        "class Car(Vehicle):\n",
        "    def __init__(self, vehicle_type, brand):\n",
        "        super().__init__(vehicle_type)\n",
        "        self.brand = brand\n",
        "\n",
        "    def display_brand(self):\n",
        "        print(\"Car Brand:\", self.brand)\n",
        "class ElectricCar(Car):\n",
        "    def __init__(self, vehicle_type, brand, battery_capacity):\n",
        "        super().__init__(vehicle_type, brand)\n",
        "        self.battery_capacity = battery_capacity\n",
        "\n",
        "    def display_battery(self):\n",
        "        print(\"Battery Capacity:\", self.battery_capacity, \"kWh\")\n",
        "if __name__ == \"__main__\":\n",
        "    tesla = ElectricCar(\"Electric Vehicle\", \"Tesla\", 75)\n",
        "    tesla.display_type()\n",
        "    tesla.display_brand()\n",
        "    tesla.display_battery()\n"
      ],
      "metadata": {
        "colab": {
          "base_uri": "https://localhost:8080/"
        },
        "id": "yw-YVGcWev5f",
        "outputId": "9cd0d16d-dc6b-43b3-a27f-404e2ca01f3a"
      },
      "execution_count": 20,
      "outputs": [
        {
          "output_type": "stream",
          "name": "stdout",
          "text": [
            "Vehicle Type: Electric Vehicle\n",
            "Car Brand: Tesla\n",
            "Battery Capacity: 75 kWh\n"
          ]
        }
      ]
    },
    {
      "cell_type": "code",
      "source": [
        "# Q4. Demonstrate polymorphism by creating a base class Bird with a method fly(). Create two derived classes Sparrow and Penguin that override the fly() method.\n",
        "class Bird:\n",
        "    def fly(self):\n",
        "        print(\"Some birds can fly.\")\n",
        "class Sparrow(Bird):\n",
        "    def fly(self):\n",
        "        print(\"Sparrow flies high in the sky.\")\n",
        "class Penguin(Bird):\n",
        "    def fly(self):\n",
        "        print(\"Penguins cannot fly, they swim.\")\n",
        "def make_bird_fly(bird):\n",
        "    bird.fly()\n",
        "if __name__ == \"__main__\":\n",
        "    generic_bird = Bird()\n",
        "    sparrow = Sparrow()\n",
        "    penguin = Penguin()\n",
        "\n",
        "    make_bird_fly(generic_bird)\n",
        "    make_bird_fly(sparrow)\n",
        "    make_bird_fly(penguin)"
      ],
      "metadata": {
        "colab": {
          "base_uri": "https://localhost:8080/"
        },
        "id": "28mnhvBGer3q",
        "outputId": "1aa31609-2670-4681-a40c-feb90559cba8"
      },
      "execution_count": 21,
      "outputs": [
        {
          "output_type": "stream",
          "name": "stdout",
          "text": [
            "Some birds can fly.\n",
            "Sparrow flies high in the sky.\n",
            "Penguins cannot fly, they swim.\n"
          ]
        }
      ]
    },
    {
      "cell_type": "code",
      "source": [
        "# Q5.  Write a program to demonstrate encapsulation by creating a class BankAccount with private attributes balance and methods to deposit, withdraw, and check balance.\n",
        "class BankAccount:\n",
        "    def __init__(self, initial_balance=0):\n",
        "        self.__balance = initial_balance\n",
        "    def deposit(self, amount):\n",
        "        if amount > 0:\n",
        "            self.__balance += amount\n",
        "            print(f\"Deposited: ₹{amount}\")\n",
        "        else:\n",
        "            print(\"Invalid deposit amount.\")\n",
        "    def withdraw(self, amount):\n",
        "        if 0 < amount <= self.__balance:\n",
        "            self.__balance -= amount\n",
        "            print(f\"Withdrawn: ₹{amount}\")\n",
        "        else:\n",
        "            print(\"Insufficient balance or invalid amount.\")\n",
        "    def check_balance(self):\n",
        "        print(f\"Current Balance: ₹{self.__balance}\")\n",
        "if __name__ == \"__main__\":\n",
        "    account = BankAccount(1000)\n",
        "    account.check_balance()\n",
        "    account.deposit(500)\n",
        "    account.check_balance()\n",
        "    account.withdraw(300)\n",
        "    account.check_balance()"
      ],
      "metadata": {
        "colab": {
          "base_uri": "https://localhost:8080/"
        },
        "id": "uyUL0OpQixlr",
        "outputId": "993a0a01-24e3-4a40-a535-15e368638800"
      },
      "execution_count": 22,
      "outputs": [
        {
          "output_type": "stream",
          "name": "stdout",
          "text": [
            "Current Balance: ₹1000\n",
            "Deposited: ₹500\n",
            "Current Balance: ₹1500\n",
            "Withdrawn: ₹300\n",
            "Current Balance: ₹1200\n"
          ]
        }
      ]
    },
    {
      "cell_type": "code",
      "source": [
        "# Q6.  Demonstrate runtime polymorphism using a method play() in a base class Instrument. Derive classes Guitar and Piano that implement their own version of play().\n",
        "class Instrument:\n",
        "    def play(self):\n",
        "        print(\"Playing an instrument.\")\n",
        "class Guitar(Instrument):\n",
        "    def play(self):\n",
        "        print(\"Strumming the guitar.\")\n",
        "class Piano(Instrument):\n",
        "    def play(self):\n",
        "        print(\"Playing the piano keys.\")\n",
        "def start_playing(instrument):\n",
        "    instrument.play()\n",
        "if __name__ == \"__main__\":\n",
        "    instrument = Instrument()\n",
        "    guitar = Guitar()\n",
        "    piano = Piano()\n",
        "\n",
        "    start_playing(instrument)\n",
        "    start_playing(guitar)\n",
        "    start_playing(piano)"
      ],
      "metadata": {
        "colab": {
          "base_uri": "https://localhost:8080/"
        },
        "id": "c83e3dhijSef",
        "outputId": "0530de10-78cd-43dc-83d8-91d5f033319c"
      },
      "execution_count": 23,
      "outputs": [
        {
          "output_type": "stream",
          "name": "stdout",
          "text": [
            "Playing an instrument.\n",
            "Strumming the guitar.\n",
            "Playing the piano keys.\n"
          ]
        }
      ]
    },
    {
      "cell_type": "code",
      "source": [
        "# Q7.  Create a class MathOperations with a class method add_numbers() to add two numbers and a static method subtract_numbers() to subtract two numbers.\n",
        "class MathOperations:\n",
        "    @classmethod\n",
        "    def add_numbers(cls, a, b):\n",
        "        return a + b\n",
        "    @staticmethod\n",
        "    def subtract_numbers(a, b):\n",
        "        return a - b\n",
        "if __name__ == \"__main__\":\n",
        "  sum_result = MathOperations.add_numbers(10, 5)\n",
        "  print(\"Sum:\", sum_result)\n",
        "  diff_result = MathOperations.subtract_numbers(10, 5)\n",
        "  print(\"Difference:\", diff_result)"
      ],
      "metadata": {
        "colab": {
          "base_uri": "https://localhost:8080/"
        },
        "id": "74gUy49HjSpb",
        "outputId": "fa6c9103-cc38-4d72-9f32-3f43ffbbbbb6"
      },
      "execution_count": 25,
      "outputs": [
        {
          "output_type": "stream",
          "name": "stdout",
          "text": [
            "Sum: 15\n",
            "Difference: 5\n"
          ]
        }
      ]
    },
    {
      "cell_type": "code",
      "source": [
        "# Q8. Implement a class Person with a class method to count the total number of persons created.\n",
        "class Person:\n",
        "    count = 0\n",
        "    def __init__(self, name):\n",
        "        self.name = name\n",
        "        Person.count += 1\n",
        "\n",
        "    @classmethod\n",
        "    def get_person_count(cls):\n",
        "        return cls.count\n",
        "if __name__ == \"__main__\":\n",
        "    p1 = Person(\"Alice\")\n",
        "    p2 = Person(\"Bob\")\n",
        "    p3 = Person(\"Charlie\")\n",
        "\n",
        "    print(\"Total persons created:\", Person.get_person_count())"
      ],
      "metadata": {
        "colab": {
          "base_uri": "https://localhost:8080/"
        },
        "id": "hagaNk50jSzL",
        "outputId": "d9249396-2a68-446f-a94b-590c7141e251"
      },
      "execution_count": 26,
      "outputs": [
        {
          "output_type": "stream",
          "name": "stdout",
          "text": [
            "Total persons created: 3\n"
          ]
        }
      ]
    },
    {
      "cell_type": "code",
      "source": [
        "# Q9.  Write a class Fraction with attributes numerator and denominator. Override the str method to display the fraction as \"numerator/denominator\".\n",
        "class Fraction:\n",
        "    def __init__(self, numerator, denominator):\n",
        "        self.numerator = numerator\n",
        "        self.denominator = denominator\n",
        "    def __str__(self):\n",
        "        return f\"{self.numerator}/{self.denominator}\"\n",
        "if __name__ == \"__main__\":\n",
        "    f1 = Fraction(3, 4)\n",
        "    f2 = Fraction(5, 8)\n",
        "\n",
        "    print(\"Fraction 1:\", f1)\n",
        "    print(\"Fraction 2:\", f2)"
      ],
      "metadata": {
        "id": "D4wgsiLtjUY5"
      },
      "execution_count": null,
      "outputs": []
    },
    {
      "cell_type": "code",
      "source": [
        "# Q10. Demonstrate operator overloading by creating a class Vector and overriding the add method to add two vectors.\n",
        "class Vector:\n",
        "    def __init__(self, x, y):\n",
        "        self.x = x\n",
        "        self.y = y\n",
        "    def __add__(self, other):\n",
        "        if isinstance(other, Vector):\n",
        "            return Vector(self.x + other.x, self.y + other.y)\n",
        "        return NotImplemented\n",
        "    def __str__(self):\n",
        "        return f\"Vector({self.x}, {self.y})\"\n",
        "if __name__ == \"__main__\":\n",
        "    v1 = Vector(2, 3)\n",
        "    v2 = Vector(4, 5)\n",
        "    v3 = v1 + v2\n",
        "\n",
        "    print(\"v1:\", v1)\n",
        "    print(\"v2:\", v2)\n",
        "    print(\"v1 + v2 =\", v3)"
      ],
      "metadata": {
        "colab": {
          "base_uri": "https://localhost:8080/"
        },
        "id": "9G1MYH2QjUkg",
        "outputId": "17777c6b-8d99-4fed-965f-275056ae2a0a"
      },
      "execution_count": 29,
      "outputs": [
        {
          "output_type": "stream",
          "name": "stdout",
          "text": [
            "v1: Vector(2, 3)\n",
            "v2: Vector(4, 5)\n",
            "v1 + v2 = Vector(6, 8)\n"
          ]
        }
      ]
    },
    {
      "cell_type": "code",
      "source": [
        "# Q11. Create a class Person with attributes name and age. Add a method greet() that prints \"Hello, my name is {name} and I am {age} years old.\"\n",
        "class Person:\n",
        "    def __init__(self, name, age):\n",
        "        self.name = name\n",
        "        self.age = age\n",
        "\n",
        "    def greet(self):\n",
        "        print(f\"Hello, my name is {self.name} and I am {self.age} years old.\")\n",
        "\n",
        "if __name__ == \"__main__\":\n",
        "    person1 = Person(\"Alice\", 25)\n",
        "    person2 = Person(\"Bob\", 30)\n",
        "\n",
        "    person1.greet()\n",
        "    person2.greet()\n",
        "\n",
        "\n"
      ],
      "metadata": {
        "colab": {
          "base_uri": "https://localhost:8080/"
        },
        "id": "pgozi7UZjUuR",
        "outputId": "0c2cfef5-7fbf-4a97-f99e-8a99e624a0f9"
      },
      "execution_count": 30,
      "outputs": [
        {
          "output_type": "stream",
          "name": "stdout",
          "text": [
            "Hello, my name is Alice and I am 25 years old.\n",
            "Hello, my name is Bob and I am 30 years old.\n"
          ]
        }
      ]
    },
    {
      "cell_type": "code",
      "source": [
        "# Q12. mplement a class Student with attributes name and grades. Create a method average_grade() to compute the average of the grades.\n",
        "class Student:\n",
        "    def __init__(self, name, grades):\n",
        "        self.name = name\n",
        "        self.grades = grades\n",
        "\n",
        "    def average_grade(self):\n",
        "        if not self.grades:\n",
        "            return 0\n",
        "        return sum(self.grades) / len(self.grades)\n",
        "\n",
        "if __name__ == \"__main__\":\n",
        "    student1 = Student(\"Alice\", [85, 90, 78])\n",
        "    student2 = Student(\"Bob\", [70, 75, 80, 85])\n",
        "\n",
        "    print(f\"{student1.name}'s average grade: {student1.average_grade():.2f}\")\n",
        "    print(f\"{student2.name}'s average grade: {student2.average_grade():.2f}\")"
      ],
      "metadata": {
        "colab": {
          "base_uri": "https://localhost:8080/"
        },
        "id": "nzbSodU0jU3_",
        "outputId": "5bc9c607-6e41-48e8-f96e-28e16bf1c47b"
      },
      "execution_count": 31,
      "outputs": [
        {
          "output_type": "stream",
          "name": "stdout",
          "text": [
            "Alice's average grade: 84.33\n",
            "Bob's average grade: 77.50\n"
          ]
        }
      ]
    },
    {
      "cell_type": "code",
      "source": [
        "# Q13. Create a class Rectangle with methods set_dimensions() to set the dimensions and area() to calculate the area.\n",
        "class Rectangle:\n",
        "    def __init__(self):\n",
        "        self.length = 0\n",
        "        self.width = 0\n",
        "\n",
        "    def set_dimensions(self, length, width):\n",
        "        self.length = length\n",
        "        self.width = width\n",
        "\n",
        "    def area(self):\n",
        "        return self.length * self.width\n",
        "\n",
        "if __name__ == \"__main__\":\n",
        "    rectangle = Rectangle()\n",
        "    rectangle.set_dimensions(5, 4)\n",
        "\n",
        "    print(f\"Area of rectangle: {rectangle.area()}\")"
      ],
      "metadata": {
        "colab": {
          "base_uri": "https://localhost:8080/"
        },
        "id": "UTw8kzCZjVBg",
        "outputId": "4286dadf-f13a-475a-837b-031dfe2d8fd9"
      },
      "execution_count": 32,
      "outputs": [
        {
          "output_type": "stream",
          "name": "stdout",
          "text": [
            "Area of rectangle: 20\n"
          ]
        }
      ]
    },
    {
      "cell_type": "code",
      "source": [
        "# Q14. Create a class Employee with a method calculate_salary() that computes the salary based on hours worked and hourly rate. Create a derived class Manager that adds a bonus to the salary.\n",
        "class Employee:\n",
        "    def __init__(self, name, hours_worked, hourly_rate):\n",
        "        self.name = name\n",
        "        self.hours_worked = hours_worked\n",
        "        self.hourly_rate = hourly_rate\n",
        "\n",
        "    def calculate_salary(self):\n",
        "        return self.hours_worked * self.hourly_rate\n",
        "\n",
        "class Manager(Employee):\n",
        "    def __init__(self, name, hours_worked, hourly_rate, bonus):\n",
        "        super().__init__(name, hours_worked, hourly_rate)\n",
        "        self.bonus = bonus\n",
        "\n",
        "    def calculate_salary(self):\n",
        "        base_salary = super().calculate_salary()\n",
        "        return base_salary + self.bonus\n",
        "\n",
        "if __name__ == \"__main__\":\n",
        "    employee = Employee(\"John\", 40, 15)\n",
        "    manager = Manager(\"Sarah\", 40, 20, 500)\n",
        "\n",
        "    print(f\"{employee.name}'s salary: ${employee.calculate_salary()}\")\n",
        "    print(f\"{manager.name}'s salary: ${manager.calculate_salary()}\")"
      ],
      "metadata": {
        "colab": {
          "base_uri": "https://localhost:8080/"
        },
        "id": "jXMZF_iNjVL4",
        "outputId": "b3c10691-933f-455e-ed7c-b7d3f4a95237"
      },
      "execution_count": 33,
      "outputs": [
        {
          "output_type": "stream",
          "name": "stdout",
          "text": [
            "John's salary: $600\n",
            "Sarah's salary: $1300\n"
          ]
        }
      ]
    },
    {
      "cell_type": "code",
      "source": [
        "# Q15.  Create a class Product with attributes name, price, and quantity. Implement a method total_price() that calculates the total price of the product.\n",
        "class Product:\n",
        "    def __init__(self, name, price, quantity):\n",
        "        self.name = name\n",
        "        self.price = price\n",
        "        self.quantity = quantity\n",
        "\n",
        "    def total_price(self):\n",
        "        return self.price * self.quantity\n",
        "\n",
        "if __name__ == \"__main__\":\n",
        "    product1 = Product(\"Laptop\", 1000, 2)\n",
        "    product2 = Product(\"Headphones\", 50, 5)\n",
        "\n",
        "    print(f\"Total price of {product1.name}: ${product1.total_price()}\")\n",
        "    print(f\"Total price of {product2.name}: ${product2.total_price()}\")"
      ],
      "metadata": {
        "colab": {
          "base_uri": "https://localhost:8080/"
        },
        "id": "0XTrscdWjVfP",
        "outputId": "6eb22fd7-0194-4347-d600-cb7013da1b51"
      },
      "execution_count": 35,
      "outputs": [
        {
          "output_type": "stream",
          "name": "stdout",
          "text": [
            "Total price of Laptop: $2000\n",
            "Total price of Headphones: $250\n"
          ]
        }
      ]
    },
    {
      "cell_type": "code",
      "source": [
        "# Q16.  Create a class Animal with an abstract method sound(). Create two derived classes Cow and Sheep that implement the sound() method.\n",
        "from abc import ABC, abstractmethod\n",
        "\n",
        "class Animal(ABC):\n",
        "    @abstractmethod\n",
        "    def sound(self):\n",
        "        pass\n",
        "\n",
        "class Cow(Animal):\n",
        "    def sound(self):\n",
        "        print(\"Moo\")\n",
        "\n",
        "class Sheep(Animal):\n",
        "    def sound(self):\n",
        "        print(\"Baa\")\n",
        "\n",
        "if __name__ == \"__main__\":\n",
        "    cow = Cow()\n",
        "    sheep = Sheep()\n",
        "\n",
        "    cow.sound()\n",
        "    sheep.sound()"
      ],
      "metadata": {
        "colab": {
          "base_uri": "https://localhost:8080/"
        },
        "id": "JNk3XWPHjVo2",
        "outputId": "61fbeb2d-4dc2-4c71-88b7-fe74c37fdc5f"
      },
      "execution_count": 36,
      "outputs": [
        {
          "output_type": "stream",
          "name": "stdout",
          "text": [
            "Moo\n",
            "Baa\n"
          ]
        }
      ]
    },
    {
      "cell_type": "code",
      "source": [
        "# Q17.  Create a class Book with attributes title, author, and year_published. Add a method get_book_info() that returns a formatted string with the book's details.\n",
        "class Book:\n",
        "    def __init__(self, title, author, year_published):\n",
        "        self.title = title\n",
        "        self.author = author\n",
        "        self.year_published = year_published\n",
        "\n",
        "    def get_book_info(self):\n",
        "        return f\"Title: {self.title}\\nAuthor: {self.author}\\nYear Published: {self.year_published}\"\n",
        "\n",
        "if __name__ == \"__main__\":\n",
        "    book1 = Book(\"1984\", \"George Orwell\", 1949)\n",
        "    book2 = Book(\"To Kill a Mockingbird\", \"Harper Lee\", 1960)\n",
        "\n",
        "    print(book1.get_book_info())\n",
        "    print(\"\\n\")\n",
        "    print(book2.get_book_info())"
      ],
      "metadata": {
        "colab": {
          "base_uri": "https://localhost:8080/"
        },
        "id": "OqhEAjwEoTzP",
        "outputId": "90a1690b-2ba6-47c0-d70f-77d566de43fc"
      },
      "execution_count": 39,
      "outputs": [
        {
          "output_type": "stream",
          "name": "stdout",
          "text": [
            "Title: 1984\n",
            "Author: George Orwell\n",
            "Year Published: 1949\n",
            "\n",
            "\n",
            "Title: To Kill a Mockingbird\n",
            "Author: Harper Lee\n",
            "Year Published: 1960\n"
          ]
        }
      ]
    },
    {
      "cell_type": "code",
      "source": [
        "# Q18. Create a class House with attributes address and price. Create a derived class Mansion that adds an attribute number_of_rooms.\n",
        "class House:\n",
        "    def __init__(self, address, price):\n",
        "        self.address = address\n",
        "        self.price = price\n",
        "\n",
        "    def get_house_info(self):\n",
        "        return f\"Address: {self.address}\\nPrice: ${self.price}\"\n",
        "\n",
        "class Mansion(House):\n",
        "    def __init__(self, address, price, number_of_rooms):\n",
        "        super().__init__(address, price)\n",
        "        self.number_of_rooms = number_of_rooms\n",
        "\n",
        "    def get_mansion_info(self):\n",
        "        return f\"{self.get_house_info()}\\nNumber of Rooms: {self.number_of_rooms}\"\n",
        "\n",
        "if __name__ == \"__main__\":\n",
        "    house = House(\"123 Main St, Springfield\", 250000)\n",
        "    mansion = Mansion(\"456 Luxury Ave, Beverly Hills\", 5000000, 15)\n",
        "\n",
        "    print(\"House Info:\\n\", house.get_house_info())\n",
        "    print(\"\\n\")\n",
        "    print(\"\\nMansion Info:\\n\", mansion.get_mansion_info())"
      ],
      "metadata": {
        "colab": {
          "base_uri": "https://localhost:8080/"
        },
        "id": "4j59RAskotJx",
        "outputId": "3baeba52-53a1-498a-e892-8a115de89fb7"
      },
      "execution_count": 41,
      "outputs": [
        {
          "output_type": "stream",
          "name": "stdout",
          "text": [
            "House Info:\n",
            " Address: 123 Main St, Springfield\n",
            "Price: $250000\n",
            "\n",
            "\n",
            "\n",
            "Mansion Info:\n",
            " Address: 456 Luxury Ave, Beverly Hills\n",
            "Price: $5000000\n",
            "Number of Rooms: 15\n"
          ]
        }
      ]
    }
  ]
}